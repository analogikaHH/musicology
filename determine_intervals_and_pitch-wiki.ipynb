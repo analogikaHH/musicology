{
 "cells": [
  {
   "cell_type": "markdown",
   "id": "36e1e895-c63f-4a8a-be22-312bc24d0342",
   "metadata": {
    "editable": true,
    "slideshow": {
     "slide_type": ""
    },
    "tags": []
   },
   "source": [
    "# Determine Interval and Note Pitch of Two Frequencies </h1>\n",
    "This program represents a <em>first approach</em> to the task of determining pitch and interval. A different, less redundant approach was used for the <code>compare_intervals_tunings</code> program. For more efficient and more easily portable versions of these functions, please see that code. \n",
    "\n",
    "This script \n",
    "1. prompts user for two frequencies in Hz\n",
    "2. determines the interval between those frequencies in Cents\n",
    "3. determines the interval between those frequencies in semitones ±50 Cts.\n",
    "4. determines the note pitch ±50 Ct. of the two frequencies relative to concert pitch A4. \n"
   ]
  },
  {
   "cell_type": "markdown",
   "id": "6d8c7bc1-1252-4a4f-abdc-016c2c8d985e",
   "metadata": {},
   "source": [
    "### Prompt user for frequency </h3>\n",
    "Prompt user, convert input to float. Repeat with appropriate warning if user input is not valid frequency value. "
   ]
  },
  {
   "cell_type": "code",
   "execution_count": null,
   "id": "2a73bbea-63d0-4c5b-9d96-ce6e873bfed3",
   "metadata": {
    "editable": true,
    "slideshow": {
     "slide_type": ""
    },
    "tags": []
   },
   "outputs": [],
   "source": [
    "def get_frequency_input (prompt):\n",
    "   \n",
    "    while True: # loops the input request until a valid input is received\n",
    "        try:\n",
    "            # request user input\n",
    "            user_input = input(prompt)\n",
    "            # try to convert the input to a float\n",
    "            value = float(user_input)\n",
    "            # check that the value is positive\n",
    "            if value > 0:\n",
    "                return value\n",
    "            else: # if value is ≤0, inform user and prompt again\n",
    "                print(\"Frequency must be a number greater than 0.\")\n",
    "        except ValueError:\n",
    "            # if conversion to float fails, inform user and prompt again\n",
    "            print(\"Frequency must be a number greater than 0.\")\n"
   ]
  },
  {
   "cell_type": "markdown",
   "id": "e2c7acec-2e67-4d16-a4ab-308a4239de5a",
   "metadata": {},
   "source": [
    "### Calculate interval Function</h3>\n",
    "This is the actual function to calculate the interval. It calls <code>get_frequency_input</code> for two valid frequencies, sorts them for interval determination, and then calculates the interval in cents. "
   ]
  },
  {
   "cell_type": "code",
   "execution_count": null,
   "id": "dab979c6-b6f0-4210-9164-6c76156e4711",
   "metadata": {},
   "outputs": [],
   "source": [
    "def calc_interval():\n",
    "    \n",
    "    import numpy as np #needed for log2 conversion of frequency -> cents\n",
    "    \n",
    "    # Request user input for freq1 and freq2 by calling the validated input function\n",
    "    freq1 = get_frequency_input(\"Enter the first frequency in Hz: \")\n",
    "    freq2 = get_frequency_input(\"Enter the second frequency in Hz: \")\n",
    "    print() # adds empty line break\n",
    "        \n",
    "    # figure out which is the larger and which the smaller frequency\n",
    "    if freq1 > freq2:\n",
    "        larger_freq = freq1\n",
    "        smaller_freq = freq2\n",
    "    else:\n",
    "        larger_freq = freq2\n",
    "        smaller_freq = freq1\n",
    "        \n",
    "    # calculate the interval in cents using numpy\n",
    "    intvl_cents = 1200 * np.log2(larger_freq / smaller_freq)\n",
    "        \n",
    "    # Print the result in cents\n",
    "    print(f\"The interval between {freq1} Hz and {freq2} Hz is {intvl_cents:.2f} cents\")\n",
    "     # \".2\" rounds to two decimal places, \"f\" formats the display as fixed-point (not floating) decimal number"
   ]
  },
  {
   "cell_type": "markdown",
   "id": "03d64060-b829-4532-9407-535473d1a9f3",
   "metadata": {},
   "source": [
    "Next, the interval is broken into semitones and cents. If the remaining cents exceed ±50, semitone interval is incremented/decremented appropriately. \n",
    "Includes carefully crafted output formatting. ;-) "
   ]
  },
  {
   "cell_type": "code",
   "execution_count": null,
   "id": "278d562a-5b2b-4bb9-9794-5e410a086879",
   "metadata": {},
   "outputs": [],
   "source": [
    "    # determine the interval in semitones\n",
    "    semitones = int(intvl_cents / 100) # use 'int' because 'round' will round .5 to nearest even number\n",
    "    # determine the remaining cents\n",
    "    remaining_cents = intvl_cents - (semitones * 100)\n",
    "        \n",
    "    # for remaining cents >50, add 1 semitone and subtract 100 to turn remaining cents into negative value\n",
    "    if remaining_cents > 50:\n",
    "        semitones += 1\n",
    "        remaining_cents -= 100\n",
    "    else: \n",
    "        pass \n",
    "         \n",
    "    # print the result\n",
    "    if remaining_cents == 0:\n",
    "        # correct output for grammar if only 1 semitone\n",
    "        if semitones == 1: \n",
    "            print(f\"The interval is {semitones} semitone exactly.\") # singular version\n",
    "        else: \n",
    "            print(f\"The interval is {semitones} semitones exactly.\") # plural version\n",
    "    else: \n",
    "        # correct output for grammar if only 1 semitone\n",
    "        if semitones == 1: \n",
    "            print(f\"The interval is {semitones} semitone {remaining_cents:+.2f} cents.\") # singular version\n",
    "        else: \n",
    "            print(f\"The interval is {semitones} semitones {remaining_cents:+.2f} cents.\") # plural version\n",
    "            # \"+\" ensures display of +/- sign, \".2\" rounds to two decimal places, \n",
    "            # \"f\" formats as fixed-point (not floating) decimal number\n",
    "    print()\n"
   ]
  },
  {
   "cell_type": "markdown",
   "id": "2ca31ec1-f203-4bf3-b8b5-bfaa9c59d677",
   "metadata": {},
   "source": [
    "### Determine Pitch </h3>\n",
    "Determine the note closest to given frequency, calculated UPWARDS from next-lower 'A'. \n",
    "\n",
    "The <code>octave_count</code> variable designates the particular octave of the note, using concert pitch as A4. It is determined by shifting <code>current_freq</code> down by octaves until it is below the user-entered lower frequency. "
   ]
  },
  {
   "cell_type": "code",
   "execution_count": null,
   "id": "c2922a14-4913-44d4-a5ac-6c82e6d75701",
   "metadata": {},
   "outputs": [],
   "source": [
    "    def determine_note(user_freq,reference_freq):\n",
    "        octave_count = 4 # determines reference_freq as 'A4' (scientific pitch)\n",
    "        current_freq = reference_freq\n",
    "        if user_freq < reference_freq:\n",
    "            # determine the base note 'A' from which to calculate interval to note\n",
    "            while current_freq > user_freq: # keep going down from A4 in octaves until base A is lower than user's note\n",
    "                current_freq /= 2 # octave down\n",
    "                octave_count -= 1 # increment octave counter downwards from 'A4' to 'A3', 'A2', etc. \n",
    "#            return current_freq, octave_count\n",
    "\n",
    "        else:\n",
    "            if user_freq == reference_freq: # if user note is exactly concert pitch, do nothing\n",
    "                pass\n",
    "#            return current_freq, octave_count\n",
    "            else:\n",
    "                while current_freq <= user_freq: # keep going up from A4 in Octaves until base 'A' is higher than user's note\n",
    "                    current_freq *= 2 # octave up\n",
    "                    octave_count += 1 # increment octave counter upwards from 'A4' to 'A5', 'A6', etc.\n",
    "            if current_freq > user_freq: # correct back down to base 'A' after overshooting   \n",
    "                current_freq /= 2\n",
    "                octave_count -= 1\n",
    "#            return current_freq, octave_count\n"
   ]
  },
  {
   "cell_type": "markdown",
   "id": "c4fbdde4-5f4a-4818-9a3e-866360cb466c",
   "metadata": {},
   "source": [
    "### Calculate Interval above Octave A</h3>\n",
    "Next, the interval from base A to the frequency is determined: "
   ]
  },
  {
   "cell_type": "code",
   "execution_count": null,
   "id": "0211c32b-98ed-4ab5-ad43-ffaad7cde000",
   "metadata": {},
   "outputs": [],
   "source": [
    "        # calculate the interval in cents using numpy\n",
    "        intvl_cents_absolute_lower = 1200 * np.log2(user_freq / current_freq)\n",
    "        return intvl_cents_absolute_lower, octave_count\n"
   ]
  },
  {
   "cell_type": "markdown",
   "id": "977fac10-06c0-4d1d-92f9-a80ff1598755",
   "metadata": {},
   "source": [
    "Define concert pitch and note names"
   ]
  },
  {
   "cell_type": "code",
   "execution_count": null,
   "id": "f660890c-9229-491d-99c6-80f923f984b8",
   "metadata": {},
   "outputs": [],
   "source": [
    "    ref_pitch = float(440) # define concert pitch at A4 in Hz\n",
    "\n",
    "    print (f\"Concert pitch is set to A4 = {ref_pitch:.2f} Hz\")\n",
    "    print ()\n",
    "\n",
    "    # define list of notes, adding extra \"A\" for intervals > 11 semitones +50 Cts (which convert to 12 - <50Cts).\n",
    "    notes = [\"A\", \"A#\", \"B\", \"C\", \"C#\", \"D\", \"D#\", \"E\", \"F\", \"F#\", \"G\", \"G#\", \"A\"]\n",
    " "
   ]
  },
  {
   "cell_type": "markdown",
   "id": "5d7097ef-8224-44b7-90b9-611b2a1f24b0",
   "metadata": {
    "editable": true,
    "slideshow": {
     "slide_type": ""
    },
    "tags": []
   },
   "source": [
    "Determine interval of lower frequency to baseline A, adjusting semitones for remaining cents exceeding ±50. \n",
    "(This is obviously partly redundant. Interval determination should be broken out into separate function -- so I did for the second-generation <code>compare_intervals_tunings</code>...)"
   ]
  },
  {
   "cell_type": "code",
   "execution_count": null,
   "id": "3d85ebe9-27ae-4e3a-8640-ccf41ad97a30",
   "metadata": {},
   "outputs": [],
   "source": [
    "    intvl_cents_absolute_low, octave_count_low = determine_note(smaller_freq,ref_pitch)\n",
    "    print (f\"The lower note is {intvl_cents_absolute_low:.2f} cents above A{octave_count_low} at A4 = {ref_pitch:.2f} Hz\")\n",
    "\n",
    "    # determine the interval of lower note to baseline 'A' in semitones\n",
    "    semitones_low = int(intvl_cents_absolute_low / 100)\n",
    "    # determine the remaining cents\n",
    "    remaining_cents_low = intvl_cents_absolute_low - (int(semitones_low) * 100)\n",
    "        \n",
    "    # for remaining cents >50, add 1 semitone and subtract 100 to turn remaining cents into negative value\n",
    "    if remaining_cents_low > 50:\n",
    "        semitones_low += 1\n",
    "        remaining_cents_low -= 100\n",
    "    else: \n",
    "        pass \n",
    "\n",
    "    # define \"octave name\" with correct octave count for lower note for notes from 'C' to 'G#'\n",
    "    if semitones_low > 2:\n",
    "        octave_name_low = octave_count_low + 1\n",
    "    else:\n",
    "        octave_name_low = octave_count_low\n",
    "    \n",
    "    # print the result\n",
    "    if remaining_cents_low == 0:\n",
    "        # correct output for grammar if only 1 semitone\n",
    "        if semitones_low == 1: \n",
    "            print(f\"The lower note is exactly {semitones_low} semitone above A{octave_count_low} at A4 = {ref_pitch:.2f} Hz.\") # singular version\n",
    "        else: \n",
    "            print(f\"The lower note is exactly {semitones_low} semitones above A{octave_count_low} at A4 = {ref_pitch:.2f} Hz.\") # plural version\n",
    "\n",
    "        print(f\"The lower note is a {notes[semitones_low]}{octave_name_low} at A4 = {ref_pitch:.2f} Hz.\")\n",
    "    else: \n",
    "        # correct output for grammar if only 1 semitone\n",
    "        if semitones_low == 1: \n",
    "            print(f\"The lower note is {semitones_low} semitone {remaining_cents_low:+.2f} cents above A{octave_count_low} at A4 = {ref_pitch:.2f} Hz.\") # singular version\n",
    "        else: \n",
    "            print(f\"The lower note is {semitones_low} semitones {remaining_cents_low:+.2f} cents above A{octave_count_low} at A4 = {ref_pitch:.2f} Hz.\") # plural version\n",
    "            \n",
    "        print(f\"The lower note is a {notes[semitones_low]}{octave_name_low} {remaining_cents_low:+.2f} cents at A4 = {ref_pitch:.2f} Hz.\")\n",
    "            # \"+\" ensures display of +/- sign, \".2\" rounds to two decimal places, \n",
    "            # \"f\" formats as fixed-point (not floating) decimal number\n",
    "\n",
    "    print()\n"
   ]
  },
  {
   "cell_type": "markdown",
   "id": "cc96458d-f598-48c7-b1b3-222c4c426749",
   "metadata": {},
   "source": [
    "Repeat for upper frequency. (See note above about redundancy.)"
   ]
  },
  {
   "cell_type": "code",
   "execution_count": null,
   "id": "4053fbf8-9105-40a1-a2bd-b12b909045ef",
   "metadata": {},
   "outputs": [],
   "source": [
    "    # determine note pitch of UPPER FREQUENCY\n",
    "    intvl_cents_absolute_hi, octave_count_hi = determine_note(larger_freq,ref_pitch)\n",
    "    print (f\"The upper note is {intvl_cents_absolute_hi:.2f} cents above A{octave_count_hi} at A4 = {ref_pitch:.2f} Hz\")\n",
    "\n",
    "    # determine the interval of upper note to baseline 'A' in semitones\n",
    "    semitones_hi = int(intvl_cents_absolute_hi / 100)\n",
    "    # determine the remaining cents\n",
    "    remaining_cents_hi = intvl_cents_absolute_hi - (int(semitones_hi) * 100)\n",
    "        \n",
    "    # for remaining cents >50, add 1 semitone and subtract 100 to turn remaining cents into negative value\n",
    "    if remaining_cents_hi > 50:\n",
    "        semitones_hi += 1\n",
    "        remaining_cents_hi -= 100\n",
    "    else: \n",
    "        pass \n",
    "\n",
    "    # define \"octave name\" with correct octave count for upper note for notes from 'C' to 'G#'\n",
    "    if semitones_hi > 2:\n",
    "        octave_name_hi = octave_count_hi + 1\n",
    "    else:\n",
    "        octave_name_hi = octave_count_hi\n",
    "          \n",
    "    # print the result\n",
    "    if remaining_cents_hi == 0:\n",
    "        # correct output for grammar if only 1 semitone\n",
    "        if semitones_hi == 1: \n",
    "            print(f\"The upper note is exactly {semitones_hi} semitone above A{octave_count_hi} at A4 = {ref_pitch:.2f} Hz.\") # singular version\n",
    "        else: \n",
    "            print(f\"The upper note is exactly {semitones_hi} semitones above A{octave_count_hi} at A4 = {ref_pitch:.2f} Hz.\")\n",
    "\n",
    "        print(f\"The upper note is a {notes[semitones_hi]}{octave_name_hi} at A4 = {ref_pitch:.2f} Hz.\")\n",
    "    else: \n",
    "        # correct output for grammar if only 1 semitone\n",
    "        if semitones_hi == 1: \n",
    "            print(f\"The upper note is {semitones_hi} semitone {remaining_cents_hi:+.2f} cents above A{octave_count_hi} at A4 = {ref_pitch:.2f} Hz.\")\n",
    "        else: \n",
    "            print(f\"The upper note is {semitones_hi} semitones {remaining_cents_hi:+.2f} cents above A{octave_count_hi} at A4 = {ref_pitch:.2f} Hz.\")\n",
    "            \n",
    "        print(f\"The upper note is a {notes[semitones_hi]}{octave_name_hi} {remaining_cents_hi:+.2f} cents at A4 = {ref_pitch:.2f} Hz.\")\n",
    "            # \"+\" ensures display of +/- sign, \".2\" rounds to two decimal places, \n",
    "            # \"f\" formats as fixed-point (not floating) decimal number"
   ]
  },
  {
   "cell_type": "markdown",
   "id": "0c3589c2-ceb2-4d25-a05f-1143de26df80",
   "metadata": {},
   "source": [
    "### Call main program</h3>"
   ]
  },
  {
   "cell_type": "code",
   "execution_count": null,
   "id": "ef4b2965-1417-4deb-91a0-16b8ca90478a",
   "metadata": {
    "editable": true,
    "slideshow": {
     "slide_type": ""
    },
    "tags": []
   },
   "outputs": [],
   "source": [
    "if __name__ == \"__main__\":\n",
    "    calc_interval()"
   ]
  }
 ],
 "metadata": {
  "kernelspec": {
   "display_name": "Python 3 (ipykernel)",
   "language": "python",
   "name": "python3"
  },
  "language_info": {
   "codemirror_mode": {
    "name": "ipython",
    "version": 3
   },
   "file_extension": ".py",
   "mimetype": "text/x-python",
   "name": "python",
   "nbconvert_exporter": "python",
   "pygments_lexer": "ipython3",
   "version": "3.11.5"
  }
 },
 "nbformat": 4,
 "nbformat_minor": 5
}

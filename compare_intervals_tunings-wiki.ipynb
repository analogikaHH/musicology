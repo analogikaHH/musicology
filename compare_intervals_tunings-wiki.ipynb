{
 "cells": [
  {
   "cell_type": "markdown",
   "id": "891385a0-ccbb-4b4e-bfd8-cbcd4a22e299",
   "metadata": {
    "editable": true,
    "slideshow": {
     "slide_type": ""
    },
    "tags": []
   },
   "source": [
    "# Note and Interval Determination in Various Tunings</h1>\n",
    "\n",
    "In some circumstances, it may be useful to compare known frequencies to expected notes in various twelve-tone tuning schemes, including custom tunings. \n",
    "This program \n",
    "1. prompts user for reference concert pitch A4 in Hz\n",
    "2. prompts user for two frequencies in Hz\n",
    "3. determines the interval between those frequencies in Cents\n",
    "4. compares frequencies and interval to custom tuning table in semicolon-delimited CSV file. \n",
    "5. returns note names with deviation ±50 Cts. and interval in semitones ±50 Cts for each custom tuning, relative to concert pitch A4.\n",
    "For demonstration purposes, a tuning table was used with tuning deviation data sourced from https://www.instrument-tuner.com/temperaments.html\n",
    "                                                                        \n",
    "Each of these functions may be easily adapted for other purposes. "
   ]
  },
  {
   "cell_type": "markdown",
   "id": "56dfd1a0-dfbd-42e9-b7b2-ee90ebef18bd",
   "metadata": {},
   "source": [
    "### Load basic libraries </h3>"
   ]
  },
  {
   "cell_type": "code",
   "execution_count": null,
   "id": "ce70d67b-3d9b-4df7-b7a4-0eb59e19ad7b",
   "metadata": {},
   "outputs": [],
   "source": [
    "import csv\n",
    "import numpy as np"
   ]
  },
  {
   "cell_type": "markdown",
   "id": "9fbe7107-080e-43c2-bd85-a65266b4e89c",
   "metadata": {},
   "source": [
    "### Load tuning table </h3>\n",
    "Loads note names and tuning deviations from a semicolon-delimited CSV file. It is assumed that the first row contains the names of the notes and the first column the names of the tunings. \n",
    "This function is designed for 12-tone systems and will throw up a warning if the tuning table doesn't match the expected 12-tone format. "
   ]
  },
  {
   "cell_type": "code",
   "execution_count": null,
   "id": "4bc502f0-2bdd-47ee-9e5f-a1009f389b68",
   "metadata": {},
   "outputs": [],
   "source": [
    "def load_tuning_table(csv_file):\n",
    "    tunings = {}\n",
    "    with open(csv_file, newline='', encoding='utf-8') as f:\n",
    "        reader = csv.reader(f, delimiter=';')\n",
    "        headers = next(reader)[1:]  # Skip first column (tuning names), keep note names\n",
    "        for row in reader:\n",
    "            tuning_name = row[0]\n",
    "            deviations = list(map(float, row[1:]))\n",
    "            if len(deviations) == 12:\n",
    "                tunings[tuning_name] = deviations\n",
    "            else:\n",
    "                print(f\"Warning: {tuning_name} has {len(deviations)} deviations (expected 12). Skipping.\")\n",
    "    return headers, tunings"
   ]
  },
  {
   "cell_type": "markdown",
   "id": "85b5599f-032c-4071-a416-3045509d20ad",
   "metadata": {},
   "source": [
    "### Convert a frequency to the basis for MIDI note number, for reference concert pitch a4. </h3>\n",
    "Adds 69 for A4 = Note 69. \n",
    "Deviations from the expected MIDI note frequency will result in decimals added to the note number. "
   ]
  },
  {
   "cell_type": "code",
   "execution_count": null,
   "id": "55b75876-56eb-40a6-900a-4ce27af7a793",
   "metadata": {},
   "outputs": [],
   "source": [
    "def frequency_to_midi(frequency, a4):\n",
    "    return 69 + 12 * np.log2(frequency / a4)"
   ]
  },
  {
   "cell_type": "markdown",
   "id": "d19f7eca-f001-4b3c-92fc-dda3c6311daa",
   "metadata": {},
   "source": [
    "### Convert the MIDI note number into a note name with octave. </h3>"
   ]
  },
  {
   "cell_type": "code",
   "execution_count": null,
   "id": "c11d1ee3-1e53-4853-9c09-428ad0f000e2",
   "metadata": {},
   "outputs": [],
   "source": [
    "def midi_to_note(midi_number, note_names):\n",
    "    note_index = int(midi_number) % 12\n",
    "    octave = (int(midi_number) // 12) - 1\n",
    "    return f\"{note_names[note_index]}{octave}\""
   ]
  },
  {
   "cell_type": "markdown",
   "id": "188e51fa-2bfe-4387-a7fd-dde6bac15377",
   "metadata": {},
   "source": [
    "### Determine closest note </h3>\n",
    "Calls <code>frequency_to_midi</code> and <code>midi_to_note</code> functions to determine the closest MIDI note and its deviation, in cents, for a given frequency and tuning. \n",
    "Rounds the <code>midi_to_note</code> result for standardised MIDI note number and subtracts it from initial result to calculate deviation from standard equal temperament. Tuning deviation from tuning table is then applied. \n",
    "If total deviation exceeds ±50 cents, MIDI note is incremented to compensate. "
   ]
  },
  {
   "cell_type": "code",
   "execution_count": null,
   "id": "72c14c4a-7323-4398-a873-7974bc934781",
   "metadata": {},
   "outputs": [],
   "source": [
    "def find_closest_note(frequency, note_names, tunings, a4):\n",
    "    # Find the closest note in each tuning, ensuring deviations stay within ±50 cents.\n",
    "    midi_number = frequency_to_midi(frequency, a4)\n",
    "    closest_midi = round(midi_number)\n",
    "    deviation_from_standard = (midi_number - closest_midi) * 100\n",
    "    \n",
    "    results = {}\n",
    "    for tuning, deviations in tunings.items():\n",
    "        note_index = closest_midi % 12\n",
    "        tuning_deviation = deviations[note_index]\n",
    "        total_deviation = deviation_from_standard - tuning_deviation\n",
    "\n",
    "        # Ensure deviations stay within ±50 cents\n",
    "        if total_deviation > 50:\n",
    "            closest_midi += 1\n",
    "            total_deviation -= 100\n",
    "        elif total_deviation < -50:\n",
    "            closest_midi -= 1\n",
    "            total_deviation += 100\n",
    "        \n",
    "        note_name = midi_to_note(closest_midi, note_names)\n",
    "        results[tuning] = (note_name, tuning_deviation, total_deviation)\n",
    "    \n",
    "    return results"
   ]
  },
  {
   "cell_type": "markdown",
   "id": "7756b9bc-bc94-4550-8fe5-82ca95623307",
   "metadata": {
    "editable": true,
    "slideshow": {
     "slide_type": ""
    },
    "tags": []
   },
   "source": [
    "### Calculate interval </h3>\n",
    "Calculate the interval between the two frequencies for custom tuning. \n",
    "Interval is calculated in equal temperament before tuning deviations are applied. \n",
    "Rounds the interval result for semitones and subtracts it from initial result to calculate remaining cents. \n",
    "If total deviation exceeds ±50 cents, semitone count is incremented/decremented to compensate."
   ]
  },
  {
   "cell_type": "code",
   "execution_count": null,
   "id": "5402cea2-1d1f-40bb-9290-2dbe6eb8d116",
   "metadata": {},
   "outputs": [],
   "source": [
    "def calculate_interval(freq1, freq2, tunedev1, tunedev2):\n",
    "    # Calculate interval between two frequencies in cents and semitones, for custom tuning.\n",
    "    if freq2 >= freq1:\n",
    "        equal_interval_cents = 1200 * np.log2(freq2 / freq1)\n",
    "        adjusted_interval_cents = equal_interval_cents - tunedev1 + tunedev2 # adjust for tuning deviations\n",
    "    else: \n",
    "        equal_interval_cents = 1200 * np.log2(freq1 / freq2)\n",
    "        adjusted_interval_cents = equal_interval_cents - tunedev2 + tunedev1 # adjust for tuning deviations\n",
    "    \n",
    "    # break up interval into semitones and cents\n",
    "    semitones = int(round(adjusted_interval_cents / 100))\n",
    "    remaining_cents = adjusted_interval_cents - (semitones * 100)\n",
    "\n",
    "    # Ensure remaining cents is within ±50 cents\n",
    "    if remaining_cents > 50:\n",
    "        semitones += 1\n",
    "        remaining_cents -= 100\n",
    "    elif remaining_cents < -50:\n",
    "        semitones -= 1\n",
    "        remaining_cents += 100\n",
    "\n",
    "    return semitones, remaining_cents"
   ]
  },
  {
   "cell_type": "markdown",
   "id": "5da3e9fb-bb37-4b40-970f-d9e73b0e95a2",
   "metadata": {},
   "source": [
    "### Input frequency </h3>\n",
    "Prompt user input for a valid frequency."
   ]
  },
  {
   "cell_type": "code",
   "execution_count": null,
   "id": "4d5db407-dd14-4adc-8cec-3e7156211831",
   "metadata": {},
   "outputs": [],
   "source": [
    "def get_frequency_input(prompt):\n",
    "    while True:\n",
    "        try:\n",
    "            value = float(input(prompt))\n",
    "            if value > 0:\n",
    "                return value\n",
    "            else:\n",
    "                print(\"Frequency must be greater than 0.\")\n",
    "        except ValueError:\n",
    "            print(\"Invalid input. Please enter a number.\")"
   ]
  },
  {
   "cell_type": "markdown",
   "id": "dc35d29f-40e7-491a-9501-fcd2263e9b1c",
   "metadata": {},
   "source": [
    "### Main program. </h3> \n",
    "Calls all of the above functions and formats results for output. \n",
    "Tuning table with custom tuning deviations is loaded. \n",
    "Then frequencies input by user (<code>a4</code>, <code>freq1</code>, <code>freq2</code>) are passed to <code>find_closest_note</code> and <code>find_closest_note</code> compares them to the loaded tuning table for assignment to a particular note. \n",
    "The tuning deviations are then fed into <code>calculate_interval</code> to determine the interval within each tuning, in semitones ±50 cents. \n",
    "Absolute value of remaining cents to avoid confusing double negatives in print output formatting. "
   ]
  },
  {
   "cell_type": "code",
   "execution_count": null,
   "id": "3036df08-308d-4e9a-9af4-341eda0a7c26",
   "metadata": {
    "editable": true,
    "slideshow": {
     "slide_type": ""
    },
    "tags": []
   },
   "outputs": [],
   "source": [
    "def main():\n",
    "    csv_file = 'example_temperaments.csv' \n",
    "    # example data sourced from http://www.instrument-tuner.com/temperaments.html on 2024/08/26\n",
    "    \n",
    "    note_names, tunings = load_tuning_table(csv_file)\n",
    "\n",
    "\n",
    "    a4 = get_frequency_input(\"Enter concert pitch in Hz: \")\n",
    "    freq1 = float(input(\"Enter the first frequency in Hz: \"))\n",
    "    freq2 = float(input(\"Enter the second frequency in Hz: \"))\n",
    "    print()\n",
    "    \n",
    "    print(f\"Results for each tuning, at concert pitch A4 = {a4}: \")\n",
    "    results1 = find_closest_note(freq1, note_names, tunings, a4)\n",
    "    results2 = find_closest_note(freq2, note_names, tunings, a4)\n",
    "\n",
    "     \n",
    "    for tuning in tunings:\n",
    "        note1, tunedev1, dev1 = results1[tuning]\n",
    "        note2, tunedev2, dev2 = results2[tuning]\n",
    "    \n",
    "        semitones, remaining_cents = calculate_interval(freq1, freq2, tunedev1, tunedev2)\n",
    "\n",
    "        remaining_cents_abs = abs(remaining_cents) # Ensure returned cent interval is positive\n",
    "        print(f\"{tuning}: \\n{note1} ({dev1:+.2f} cents) to {note2} ({dev2:+.2f} cents), \\nInterval: {semitones} semitones {remaining_cents_abs:.2f} cents \\n\")\n",
    "\n",
    "if __name__ == \"__main__\":\n",
    "    main()"
   ]
  }
 ],
 "metadata": {
  "kernelspec": {
   "display_name": "Python 3 (ipykernel)",
   "language": "python",
   "name": "python3"
  },
  "language_info": {
   "codemirror_mode": {
    "name": "ipython",
    "version": 3
   },
   "file_extension": ".py",
   "mimetype": "text/x-python",
   "name": "python",
   "nbconvert_exporter": "python",
   "pygments_lexer": "ipython3",
   "version": "3.11.5"
  }
 },
 "nbformat": 4,
 "nbformat_minor": 5
}
